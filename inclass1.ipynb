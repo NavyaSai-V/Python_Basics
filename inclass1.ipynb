{
 "cells": [
  {
   "cell_type": "code",
   "execution_count": 69,
   "id": "6da2ff8b-b345-4493-8e80-f2562fd663f7",
   "metadata": {},
   "outputs": [
    {
     "name": "stdout",
     "output_type": "stream",
     "text": [
      "Class 1\n"
     ]
    }
   ],
   "source": [
    "'''Python Basics'''\n",
    "\"\"\"Class 1\n",
    ".\n",
    ".\n",
    ".\n",
    "\"\"\"\n",
    "print(\"Class 1\")"
   ]
  },
  {
   "cell_type": "markdown",
   "id": "ef05540b-dbc0-4fd1-a767-d202db80789d",
   "metadata": {},
   "source": [
    "#### Rules for Identifiers\n",
    "\n",
    "- Must begin with a letter (a-z, A-Z) or an underscore (_).\n",
    "- Cannot conflict with Python's in-built keywords.\n",
    "- The remaining characters can be letters, numbers, or underscores.\n",
    "- Case-sensitive (e.g., variable and Variable are different).\n"
   ]
  },
  {
   "cell_type": "code",
   "execution_count": 77,
   "id": "093b99ca-0972-4d4c-930e-c0522026bce2",
   "metadata": {},
   "outputs": [
    {
     "data": {
      "text/plain": [
       "1"
      ]
     },
     "execution_count": 77,
     "metadata": {},
     "output_type": "execute_result"
    }
   ],
   "source": [
    "# key words\n",
    "key_word1 = 1\n",
    "key_word1"
   ]
  },
  {
   "cell_type": "code",
   "execution_count": 81,
   "id": "688adef0-984c-4100-8c79-864cedc71ca9",
   "metadata": {},
   "outputs": [],
   "source": [
    "# and = 1"
   ]
  },
  {
   "cell_type": "code",
   "execution_count": 85,
   "id": "5a9d87d8-88da-4627-92c3-6ccf2750580c",
   "metadata": {},
   "outputs": [
    {
     "data": {
      "text/plain": [
       "False"
      ]
     },
     "execution_count": 85,
     "metadata": {},
     "output_type": "execute_result"
    }
   ],
   "source": [
    "Key_word1 = 'python'\n",
    "Key_word1 == key_word1"
   ]
  },
  {
   "cell_type": "markdown",
   "id": "97f691c7-c42e-4adc-931d-62ced2ef869b",
   "metadata": {},
   "source": [
    "Conversion"
   ]
  },
  {
   "cell_type": "code",
   "execution_count": 4,
   "id": "98c3a7f7-783b-402d-874c-67543e5082e7",
   "metadata": {},
   "outputs": [],
   "source": [
    "list = [1,2,3,4,4,4,5]\n",
    "tuple = (1,2,3,3,4)\n",
    "set = {1,2,3}"
   ]
  },
  {
   "cell_type": "code",
   "execution_count": null,
   "id": "cfd6994c-6dc0-4cc4-9650-56acccf4ddb4",
   "metadata": {},
   "outputs": [],
   "source": []
  },
  {
   "cell_type": "markdown",
   "id": "d434861c-ab97-4f70-a471-c9ac801d93bb",
   "metadata": {},
   "source": [
    "String"
   ]
  },
  {
   "cell_type": "markdown",
   "id": "5ba0e2b3-a06b-425d-a428-b41bc2a61301",
   "metadata": {},
   "source": [
    "#### Strings in Python\n",
    "- In Python, a string is a sequence of characters, and it is one of the fundamental data types in the language. \n",
    "- Strings are used to represent text and are treated as immutable sequences of Unicode code points.\n",
    "\n",
    "#### Strings can be declared using either single quotes (‘ ’) or double quotes (“ ”).\n"
   ]
  },
  {
   "cell_type": "markdown",
   "id": "bb5b4495-c747-4918-8cfd-4fbb9a27b697",
   "metadata": {},
   "source": [
    "functions for strings len(), startswith(), endswith(), isalpha(), isdigit(), isalnum()"
   ]
  },
  {
   "cell_type": "code",
   "execution_count": 159,
   "id": "c9b8b7b1-ce10-48f1-8434-8db3be580673",
   "metadata": {},
   "outputs": [
    {
     "data": {
      "text/plain": [
       "('python', 'CLASS')"
      ]
     },
     "execution_count": 159,
     "metadata": {},
     "output_type": "execute_result"
    }
   ],
   "source": [
    "str1 = 'python'\n",
    "str2 = \"CLASS\"\n",
    "str1, str2"
   ]
  },
  {
   "cell_type": "code",
   "execution_count": 161,
   "id": "131c46e4-45e4-479c-9b20-0dee15e224a3",
   "metadata": {},
   "outputs": [
    {
     "data": {
      "text/plain": [
       "'python CLASS'"
      ]
     },
     "execution_count": 161,
     "metadata": {},
     "output_type": "execute_result"
    }
   ],
   "source": [
    "# String concatenate\n",
    "str = str1 + \" \" + str2\n",
    "str"
   ]
  },
  {
   "cell_type": "code",
   "execution_count": 163,
   "id": "c564a610-f84d-4f64-9182-0c503e275e23",
   "metadata": {},
   "outputs": [
    {
     "data": {
      "text/plain": [
       "6"
      ]
     },
     "execution_count": 163,
     "metadata": {},
     "output_type": "execute_result"
    }
   ],
   "source": [
    "# String length\n",
    "len(str1)"
   ]
  },
  {
   "cell_type": "code",
   "execution_count": 165,
   "id": "02a99b78-05e2-495c-8f22-7ae840d6c2bd",
   "metadata": {},
   "outputs": [
    {
     "data": {
      "text/plain": [
       "12"
      ]
     },
     "execution_count": 165,
     "metadata": {},
     "output_type": "execute_result"
    }
   ],
   "source": [
    "len(str)"
   ]
  },
  {
   "cell_type": "code",
   "execution_count": 167,
   "id": "ff935f83-84fd-45c1-83e1-71b63c35bc8f",
   "metadata": {},
   "outputs": [
    {
     "data": {
      "text/plain": [
       "'t'"
      ]
     },
     "execution_count": 167,
     "metadata": {},
     "output_type": "execute_result"
    }
   ],
   "source": [
    "# String indexing\n",
    "str1[2]"
   ]
  },
  {
   "cell_type": "code",
   "execution_count": 169,
   "id": "5d830231-fa5e-43a4-a464-76b6cf5ed37f",
   "metadata": {},
   "outputs": [
    {
     "data": {
      "text/plain": [
       "str"
      ]
     },
     "execution_count": 169,
     "metadata": {},
     "output_type": "execute_result"
    }
   ],
   "source": [
    "# string conversion\n",
    "str3 = '7'\n",
    "type(str3)\n"
   ]
  },
  {
   "cell_type": "code",
   "execution_count": 171,
   "id": "818c6f86-02f2-48bb-af89-d4e2adb2e070",
   "metadata": {},
   "outputs": [
    {
     "data": {
      "text/plain": [
       "float"
      ]
     },
     "execution_count": 171,
     "metadata": {},
     "output_type": "execute_result"
    }
   ],
   "source": [
    "str3 = float(str3)\n",
    "type(str3)"
   ]
  },
  {
   "cell_type": "code",
   "execution_count": 173,
   "id": "62693fc2-fd90-4577-8956-329f4e05536d",
   "metadata": {},
   "outputs": [
    {
     "data": {
      "text/plain": [
       "'pto LS'"
      ]
     },
     "execution_count": 173,
     "metadata": {},
     "output_type": "execute_result"
    }
   ],
   "source": [
    "# Slicing the string\n",
    "\"\"\" Srting slicing word from start to\n",
    "end\n",
    "with number of place to be taken \"\"\"\n",
    "str[: :2]"
   ]
  },
  {
   "cell_type": "code",
   "execution_count": 185,
   "id": "9f236333-8924-4658-a4ee-2d99f0614121",
   "metadata": {},
   "outputs": [
    {
     "data": {
      "text/plain": [
       "('PYTHON',\n",
       " 'python',\n",
       " 'class',\n",
       " 'CLASS',\n",
       " 'Python class',\n",
       " 'Python Class',\n",
       " 'python CLASS')"
      ]
     },
     "execution_count": 185,
     "metadata": {},
     "output_type": "execute_result"
    }
   ],
   "source": [
    "# String case conversion methods, upper(), lower(), capitalize(), title()\n",
    "str1.upper(), str1, str2.lower(), str2, str.capitalize(), str.title(), str"
   ]
  },
  {
   "cell_type": "markdown",
   "id": "446c15bb-bfa5-4459-b60a-28f868f64567",
   "metadata": {},
   "source": [
    "functions like find(), replace(), count(), split(), join(), .fotmat()"
   ]
  },
  {
   "cell_type": "code",
   "execution_count": 207,
   "id": "9ab9bffd-d563-4f82-8da8-8c547f149b57",
   "metadata": {},
   "outputs": [
    {
     "data": {
      "text/plain": [
       "-1"
      ]
     },
     "execution_count": 207,
     "metadata": {},
     "output_type": "execute_result"
    }
   ],
   "source": [
    "string = 'Python is the easiest is computer language'\n",
    "string.find('navya')\n",
    "#string.index('navi')"
   ]
  },
  {
   "cell_type": "code",
   "execution_count": 209,
   "id": "4e2ccea9-0a9c-4ce9-9e15-6a9bf94089bf",
   "metadata": {},
   "outputs": [
    {
     "data": {
      "text/plain": [
       "'Python is the simple is computer language'"
      ]
     },
     "execution_count": 209,
     "metadata": {},
     "output_type": "execute_result"
    }
   ],
   "source": [
    "string.replace('easiest', 'simple')\n"
   ]
  },
  {
   "cell_type": "code",
   "execution_count": 213,
   "id": "d589fb19-3c53-4287-88b9-9fecb17e76e0",
   "metadata": {},
   "outputs": [
    {
     "data": {
      "text/plain": [
       "3"
      ]
     },
     "execution_count": 213,
     "metadata": {},
     "output_type": "execute_result"
    }
   ],
   "source": [
    "string.count('i')"
   ]
  },
  {
   "cell_type": "code",
   "execution_count": 232,
   "id": "e143f716-725c-4298-9473-638c8cee2f50",
   "metadata": {},
   "outputs": [
    {
     "data": {
      "text/plain": [
       "['Hello', 'world', 'Python', 'is', 'awesome']"
      ]
     },
     "execution_count": 232,
     "metadata": {},
     "output_type": "execute_result"
    }
   ],
   "source": [
    "words = [\"Hello\", \"world\", \"Python\", \"is\", \"awesome\"]\n",
    "word2 = ' '.join(words)\n",
    "word2.split()"
   ]
  },
  {
   "cell_type": "code",
   "execution_count": 236,
   "id": "38e8bb3b-306f-4b64-b9be-cd6f6b829259",
   "metadata": {},
   "outputs": [
    {
     "data": {
      "text/plain": [
       "'This is the class1 of python'"
      ]
     },
     "execution_count": 236,
     "metadata": {},
     "output_type": "execute_result"
    }
   ],
   "source": [
    "\"This is the {}1 of {}\".format(str2.lower(), str1)"
   ]
  },
  {
   "cell_type": "code",
   "execution_count": 238,
   "id": "b1856a2d-c201-4d89-8891-f76b601c9d4c",
   "metadata": {},
   "outputs": [
    {
     "data": {
      "text/plain": [
       "'This is the class1 of python'"
      ]
     },
     "execution_count": 238,
     "metadata": {},
     "output_type": "execute_result"
    }
   ],
   "source": [
    "f'This is the {str2.lower()}1 of {str1}'"
   ]
  },
  {
   "cell_type": "code",
   "execution_count": 242,
   "id": "20b5bcd1-fa81-4c9f-8905-8dcbbb760346",
   "metadata": {},
   "outputs": [
    {
     "data": {
      "text/plain": [
       "'the value is  1.45'"
      ]
     },
     "execution_count": 242,
     "metadata": {},
     "output_type": "execute_result"
    }
   ],
   "source": [
    "str3 = 1.44549875\n",
    "f\"the value is {str3: .2f}\""
   ]
  },
  {
   "cell_type": "markdown",
   "id": "38e1153c-2946-49d1-9061-04a25f09570c",
   "metadata": {},
   "source": [
    "Operations like Arithmetic, Comparision, Logical, Bitwise, Assignment, Membership"
   ]
  },
  {
   "cell_type": "code",
   "execution_count": 244,
   "id": "0ae498a2-d97e-48ed-af27-e41370422082",
   "metadata": {},
   "outputs": [
    {
     "data": {
      "text/plain": [
       "(8, 2, 15, 1.6666666666666667, 2, 125)"
      ]
     },
     "execution_count": 244,
     "metadata": {},
     "output_type": "execute_result"
    }
   ],
   "source": [
    "# Arithmetic\n",
    "val1, val2 = 3,5\n",
    "add = val1 + val2\n",
    "sub = val2 - val1\n",
    "mul = val1 * val2\n",
    "div = val2/ val1\n",
    "mod = val2 % val1\n",
    "pow = val2 ** val1\n",
    "add, sub, mul, div, mod, pow"
   ]
  },
  {
   "cell_type": "code",
   "execution_count": 254,
   "id": "3a6cf733-f962-4be3-9e12-486c59d97f00",
   "metadata": {},
   "outputs": [
    {
     "data": {
      "text/plain": [
       "True"
      ]
     },
     "execution_count": 254,
     "metadata": {},
     "output_type": "execute_result"
    }
   ],
   "source": [
    "#Comparision \n",
    "val1 <= val2 # ==, >=, <=, !=\n",
    "val1 != val2"
   ]
  },
  {
   "cell_type": "code",
   "execution_count": 258,
   "id": "2da3b264-18bc-4566-bfcf-58ec66c055a6",
   "metadata": {},
   "outputs": [
    {
     "data": {
      "text/plain": [
       "False"
      ]
     },
     "execution_count": 258,
     "metadata": {},
     "output_type": "execute_result"
    }
   ],
   "source": [
    "# logical Operators and, or, not\n",
    "a = True\n",
    "b = False\n",
    "a and b"
   ]
  },
  {
   "cell_type": "code",
   "execution_count": 260,
   "id": "41491a8f-b2e8-45e3-9ea8-9f440a3f1ca5",
   "metadata": {},
   "outputs": [
    {
     "data": {
      "text/plain": [
       "True"
      ]
     },
     "execution_count": 260,
     "metadata": {},
     "output_type": "execute_result"
    }
   ],
   "source": [
    "a or b"
   ]
  },
  {
   "cell_type": "code",
   "execution_count": 262,
   "id": "d39e391a-f379-4564-b958-a2170a4941d3",
   "metadata": {},
   "outputs": [
    {
     "data": {
      "text/plain": [
       "True"
      ]
     },
     "execution_count": 262,
     "metadata": {},
     "output_type": "execute_result"
    }
   ],
   "source": [
    "not b"
   ]
  },
  {
   "cell_type": "code",
   "execution_count": 268,
   "id": "08795871-3eb3-4bf5-a903-9f509288d420",
   "metadata": {},
   "outputs": [
    {
     "data": {
      "text/plain": [
       "True"
      ]
     },
     "execution_count": 268,
     "metadata": {},
     "output_type": "execute_result"
    }
   ],
   "source": [
    "(a and (not b)) or b"
   ]
  },
  {
   "cell_type": "code",
   "execution_count": 292,
   "id": "8818a3e1-7271-486f-91c6-20954cd695fc",
   "metadata": {},
   "outputs": [
    {
     "data": {
      "text/plain": [
       "(1, 7, 6, -4, 6, 1)"
      ]
     },
     "execution_count": 292,
     "metadata": {},
     "output_type": "execute_result"
    }
   ],
   "source": [
    "# bitwise operator\n",
    "\"\"\"& (AND)\n",
    "| (OR)\n",
    "^ (XOR)\n",
    "~ (NOT)\n",
    "<< (Left Shift)\n",
    ">> (Right Shift)\n",
    "\"\"\" \n",
    "a = 3 # 011\n",
    "b = 5 # 101\n",
    "a & b, a | b, a ^ b, ~a, a << 1, a>> 1"
   ]
  },
  {
   "cell_type": "code",
   "execution_count": 300,
   "id": "25cfac78-8cc1-49e9-83f1-84f1d8f69df8",
   "metadata": {},
   "outputs": [
    {
     "data": {
      "text/plain": [
       "6"
      ]
     },
     "execution_count": 300,
     "metadata": {},
     "output_type": "execute_result"
    }
   ],
   "source": [
    "# Assignment\n",
    "x = 5\n",
    "x += 1\n",
    "x"
   ]
  },
  {
   "cell_type": "code",
   "execution_count": 302,
   "id": "a51a788d-d415-4774-a2fb-305a21b4b4e8",
   "metadata": {},
   "outputs": [
    {
     "data": {
      "text/plain": [
       "4"
      ]
     },
     "execution_count": 302,
     "metadata": {},
     "output_type": "execute_result"
    }
   ],
   "source": [
    "x -= 2\n",
    "x\n",
    "# *=, /=, %="
   ]
  },
  {
   "cell_type": "code",
   "execution_count": 310,
   "id": "0667ede8-4ec9-4e01-93a1-fbc51a632fb6",
   "metadata": {},
   "outputs": [
    {
     "data": {
      "text/plain": [
       "True"
      ]
     },
     "execution_count": 310,
     "metadata": {},
     "output_type": "execute_result"
    }
   ],
   "source": [
    "# Membership in , not in\n",
    "list1 = [1 , 2, 3, 4, 5]\n",
    "10 not in list"
   ]
  },
  {
   "cell_type": "markdown",
   "id": "4040a666-0f6c-4668-9550-1f0830332beb",
   "metadata": {},
   "source": [
    "Accessing first element of list, second element of tuple , third element of set "
   ]
  },
  {
   "cell_type": "code",
   "execution_count": 318,
   "id": "620ebbc7-351d-4b65-8c35-4d9151d4f324",
   "metadata": {},
   "outputs": [],
   "source": [
    "list = [1,2,3,4,4,4,5]\n",
    "tuple = (1,2,3,3,4)\n",
    "set = {1,2,3}"
   ]
  },
  {
   "cell_type": "code",
   "execution_count": 322,
   "id": "706b376c-ed85-4524-80ef-f383d09d3e90",
   "metadata": {},
   "outputs": [
    {
     "data": {
      "text/plain": [
       "(1, 2)"
      ]
     },
     "execution_count": 322,
     "metadata": {},
     "output_type": "execute_result"
    }
   ],
   "source": [
    "list[0], tuple[1]"
   ]
  },
  {
   "cell_type": "code",
   "execution_count": null,
   "id": "7363a851-2ccf-43f9-987b-aa5fd61d717d",
   "metadata": {},
   "outputs": [],
   "source": []
  },
  {
   "cell_type": "markdown",
   "id": "d04194ff-dd57-49e1-a6db-a25d4f994816",
   "metadata": {},
   "source": [
    "Input function to take inputs from user"
   ]
  },
  {
   "cell_type": "code",
   "execution_count": 330,
   "id": "d4ea8682-aeff-4c7e-8122-db5dd17dff0c",
   "metadata": {},
   "outputs": [
    {
     "name": "stdin",
     "output_type": "stream",
     "text": [
      "Enter any value:  5\n"
     ]
    },
    {
     "data": {
      "text/plain": [
       "int"
      ]
     },
     "execution_count": 330,
     "metadata": {},
     "output_type": "execute_result"
    }
   ],
   "source": [
    "type(int(input(\"Enter any value: \")))"
   ]
  },
  {
   "cell_type": "markdown",
   "id": "3319bd18-cd16-42ed-934b-9d42f463b464",
   "metadata": {},
   "source": [
    "Conditional statments "
   ]
  },
  {
   "cell_type": "code",
   "execution_count": 334,
   "id": "24a97f93-7fb2-4d4a-a5f9-43774d82b8fe",
   "metadata": {},
   "outputs": [
    {
     "name": "stdin",
     "output_type": "stream",
     "text": [
      "Enter any value:  15\n"
     ]
    },
    {
     "name": "stdout",
     "output_type": "stream",
     "text": [
      "greater than 10\n"
     ]
    }
   ],
   "source": [
    "# if condition \n",
    "x = int(input(\"Enter any value: \"))\n",
    "if x>10:\n",
    "    print(\"greater than 10\")"
   ]
  },
  {
   "cell_type": "code",
   "execution_count": 336,
   "id": "d8cd2d4c-0882-467f-9f76-5987dc34fdf0",
   "metadata": {},
   "outputs": [
    {
     "name": "stdin",
     "output_type": "stream",
     "text": [
      "Enter any value:  5\n"
     ]
    },
    {
     "name": "stdout",
     "output_type": "stream",
     "text": [
      "lesser than 10\n"
     ]
    }
   ],
   "source": [
    "# if else statment\n",
    "x = int(input(\"Enter any value: \"))\n",
    "if x>10:\n",
    "    print(\"greater than 10\")\n",
    "else:\n",
    "    print('lesser than 10')"
   ]
  },
  {
   "cell_type": "code",
   "execution_count": 338,
   "id": "a7c17e3f-2310-4c37-b682-4cd3e52cd25c",
   "metadata": {},
   "outputs": [
    {
     "name": "stdin",
     "output_type": "stream",
     "text": [
      "Enter any value:  8\n"
     ]
    },
    {
     "name": "stdout",
     "output_type": "stream",
     "text": [
      "lesser than 10 and greater than 5\n"
     ]
    }
   ],
   "source": [
    "# if elif statements, multiple if conditions\n",
    "\n",
    "x = int(input(\"Enter any value: \"))\n",
    "if x>10:\n",
    "    print(\"greater than 10\")\n",
    "elif x<10 and x> 5:\n",
    "     print('lesser than 10 and greater than 5')\n",
    "else:\n",
    "    print('lesser than 5')\n"
   ]
  },
  {
   "cell_type": "markdown",
   "id": "bbba6937-e8ff-4523-8cfc-3c4ab7c1002f",
   "metadata": {},
   "source": [
    "Loop Statments"
   ]
  },
  {
   "cell_type": "code",
   "execution_count": 346,
   "id": "cb978510-0ddd-4a93-a059-b4a23146ec0f",
   "metadata": {},
   "outputs": [
    {
     "name": "stdout",
     "output_type": "stream",
     "text": [
      "python\n",
      "python\n"
     ]
    }
   ],
   "source": [
    "# for loop\n",
    "for repeat in range(2):\n",
    "    print('python')"
   ]
  },
  {
   "cell_type": "code",
   "execution_count": 348,
   "id": "8a04ed39-764b-463c-970d-a9b72ad14383",
   "metadata": {},
   "outputs": [
    {
     "name": "stdout",
     "output_type": "stream",
     "text": [
      "1\n",
      "2\n",
      "3\n",
      "4\n",
      "4\n",
      "4\n",
      "5\n"
     ]
    }
   ],
   "source": [
    "list = [1,2,3,4,4,4,5]\n",
    "for val in list:\n",
    "    print(val)"
   ]
  },
  {
   "cell_type": "code",
   "execution_count": 352,
   "id": "24d1b1cf-65f3-4a22-85dd-75e9bf1b21f6",
   "metadata": {},
   "outputs": [
    {
     "name": "stdout",
     "output_type": "stream",
     "text": [
      "5\n",
      "8\n",
      "11\n",
      "14\n",
      "17\n",
      "20\n",
      "23\n",
      "26\n"
     ]
    }
   ],
   "source": [
    "for x in range(5,29,3):\n",
    "    print(x)"
   ]
  },
  {
   "cell_type": "code",
   "execution_count": 356,
   "id": "0cbfcf51-ca5d-4044-a85b-472c9b631203",
   "metadata": {},
   "outputs": [
    {
     "name": "stdout",
     "output_type": "stream",
     "text": [
      "0\n",
      "1\n",
      "2\n",
      "3\n",
      "4\n",
      "5\n",
      "6\n",
      "7\n",
      "8\n",
      "9\n"
     ]
    }
   ],
   "source": [
    "# while loop\n",
    "x = 0\n",
    "while x<10:\n",
    "    print(x)\n",
    "    x += 1"
   ]
  },
  {
   "cell_type": "code",
   "execution_count": null,
   "id": "7626d274-1fe5-4037-8d53-f5edf264ad11",
   "metadata": {},
   "outputs": [],
   "source": []
  }
 ],
 "metadata": {
  "kernelspec": {
   "display_name": "Python 3 (ipykernel)",
   "language": "python",
   "name": "python3"
  },
  "language_info": {
   "codemirror_mode": {
    "name": "ipython",
    "version": 3
   },
   "file_extension": ".py",
   "mimetype": "text/x-python",
   "name": "python",
   "nbconvert_exporter": "python",
   "pygments_lexer": "ipython3",
   "version": "3.12.4"
  }
 },
 "nbformat": 4,
 "nbformat_minor": 5
}
