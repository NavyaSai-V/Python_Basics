{
 "cells": [
  {
   "cell_type": "markdown",
   "id": "3964f9c8-1a5f-4dbc-88d2-67bedeb5ec29",
   "metadata": {},
   "source": [
    "## Question 1: Write a function to find the largest number in a list without using the max() function.\n",
    "#### Objective: Practice list iteration and comparison logic."
   ]
  },
  {
   "cell_type": "code",
   "execution_count": 2,
   "id": "ddb28e28-2102-4724-a10e-72d4e6feb492",
   "metadata": {},
   "outputs": [
    {
     "name": "stdout",
     "output_type": "stream",
     "text": [
      "Largest number: 89\n"
     ]
    }
   ],
   "source": [
    "def find_largest(numbers):\n",
    "    #write your Code\n",
    "\n",
    "sample_list = [3, 56, 23, 89, 12]\n",
    "print(\"Largest number:\", find_largest(sample_list))"
   ]
  },
  {
   "cell_type": "markdown",
   "id": "05530320-3c15-4d02-8e89-ccaafc89b5f7",
   "metadata": {},
   "source": [
    "## Question 2: Write a function to count the number of words in a string.\n",
    "#### Objective: Introduce string splitting and list manipulation."
   ]
  },
  {
   "cell_type": "code",
   "execution_count": 5,
   "id": "01adf4da-946a-49de-97ec-bc5ee7c58e7f",
   "metadata": {},
   "outputs": [
    {
     "name": "stdout",
     "output_type": "stream",
     "text": [
      "Number of words: 6\n"
     ]
    }
   ],
   "source": [
    "def count_words(sentence):\n",
    "    #write your code\n",
    "\n",
    "sentence = \"Data science is an exciting field\"\n",
    "print(\"Number of words:\", count_words(sentence))"
   ]
  },
  {
   "cell_type": "markdown",
   "id": "f4c5483b-c3ae-4d71-b3a5-8b6b5fd47614",
   "metadata": {},
   "source": [
    "## Question 3: Write a function that calculates the sum of squares of even numbers in a list."
   ]
  },
  {
   "cell_type": "code",
   "execution_count": null,
   "id": "4369e92f-95bb-4622-a67a-f3dcc8976db3",
   "metadata": {},
   "outputs": [],
   "source": []
  },
  {
   "cell_type": "markdown",
   "id": "2eba6bc4-b7bf-482b-8a4a-11ea089e6f5a",
   "metadata": {},
   "source": [
    "## Question 4: Write a function to check if a given year is a leap year.\n",
    "#### Objective: Practice using conditional statements and the modulo operator."
   ]
  },
  {
   "cell_type": "code",
   "execution_count": 11,
   "id": "a6eae0e1-c5dc-45db-b0f2-2f1d35d897c5",
   "metadata": {},
   "outputs": [
    {
     "name": "stdout",
     "output_type": "stream",
     "text": [
      "Is 2024 a leap year? True\n",
      "Is 2023 a leap year? False\n"
     ]
    }
   ],
   "source": [
    "def is_leap_year(year):\n",
    "    #Write your Code\n",
    "\n",
    "print(\"Is 2024 a leap year?\", is_leap_year(2024))\n",
    "print(\"Is 2023 a leap year?\", is_leap_year(2023))"
   ]
  },
  {
   "cell_type": "markdown",
   "id": "92c2661c-67a3-4b94-8d1f-c923001236c2",
   "metadata": {},
   "source": [
    "## Question 5: Write a program that reverses the words in a sentence.\n",
    "#### Objective: Practice string splitting, list manipulation, and joining."
   ]
  },
  {
   "cell_type": "code",
   "execution_count": 14,
   "id": "f22fd1e5-9b74-4e18-9af5-d69839c83d15",
   "metadata": {},
   "outputs": [
    {
     "name": "stdout",
     "output_type": "stream",
     "text": [
      "Reversed sentence: Python is this world Hello\n"
     ]
    }
   ],
   "source": [
    "def reverse_words(sentence):\n",
    "    #Write Your Code\n",
    "\n",
    "sentence = \"Hello world this is Python\"\n",
    "print(\"Reversed sentence:\", reverse_words(sentence))"
   ]
  },
  {
   "cell_type": "markdown",
   "id": "c67cfe78-eab7-4fcf-a0a0-39a74af2137c",
   "metadata": {},
   "source": [
    "## Question 6: Write a program to find all the prime numbers between 1 and 50.\n",
    "#### Objective: Introduce the concept of prime numbers and practice loops."
   ]
  },
  {
   "cell_type": "code",
   "execution_count": 17,
   "id": "2e659b5c-aab8-4fdc-bb86-3f36707c4d3f",
   "metadata": {},
   "outputs": [
    {
     "name": "stdout",
     "output_type": "stream",
     "text": [
      "Prime numbers between 1 and 50: [2, 3, 5, 7, 11, 13, 17, 19, 23, 29, 31, 37, 41, 43, 47]\n"
     ]
    }
   ],
   "source": [
    "def is_prime(num):\n",
    "    #Write Your Code\n",
    "\n",
    "primes = []\n",
    "for i in range(1, 51):\n",
    "    if is_prime(i):\n",
    "        primes.append(i)\n",
    "\n",
    "print(\"Prime numbers between 1 and 50:\", primes)"
   ]
  },
  {
   "cell_type": "markdown",
   "id": "4dd8901a-4de5-421f-8853-95864ccd38ab",
   "metadata": {},
   "source": [
    "## Question 7: Write a program to count the occurrences of each word in a given sentence.\n",
    "#### Objective: Teach how to use dictionaries for counting and string manipulation."
   ]
  },
  {
   "cell_type": "code",
   "execution_count": 20,
   "id": "d9adfbb6-c317-459e-a98f-0685eacb9b78",
   "metadata": {},
   "outputs": [
    {
     "name": "stdout",
     "output_type": "stream",
     "text": [
      "Word occurrences: {'Python': 2, 'is': 2, 'great': 1, 'and': 1, 'popular': 1}\n"
     ]
    }
   ],
   "source": [
    "def count_word_occurrences(sentence):\n",
    "    #Write Code\n",
    "\n",
    "sentence = \"Python is great and Python is popular\"\n",
    "print(\"Word occurrences:\", count_word_occurrences(sentence))"
   ]
  },
  {
   "cell_type": "markdown",
   "id": "3aeb656a-e4af-4b40-b64e-1c45ca705656",
   "metadata": {},
   "source": [
    "## Question 8: Write a program to find the common elements between two lists.\n",
    "#### Objective: Practice set operations or list iteration."
   ]
  },
  {
   "cell_type": "code",
   "execution_count": 23,
   "id": "b1d77e21-04f9-42f5-b280-a8eed0f8d1c7",
   "metadata": {},
   "outputs": [
    {
     "name": "stdout",
     "output_type": "stream",
     "text": [
      "Common elements: [4, 5]\n"
     ]
    }
   ],
   "source": [
    "def common_elements(list1, list2):\n",
    "    r#write your Code\n",
    "\n",
    "list1 = [1, 2, 3, 4, 5]\n",
    "list2 = [4, 5, 6, 7, 8]\n",
    "print(\"Common elements:\", common_elements(list1, list2))"
   ]
  },
  {
   "cell_type": "markdown",
   "id": "14b49c9c-c09a-474a-ae48-e6609c345cfd",
   "metadata": {},
   "source": [
    "## Question 9: Write a function to find the second smallest number in a list.\n",
    "#### Objective: Practice list sorting and indexing."
   ]
  },
  {
   "cell_type": "code",
   "execution_count": 26,
   "id": "a909d36d-0e50-449a-bfbb-a7ca1d351c9b",
   "metadata": {},
   "outputs": [
    {
     "name": "stdout",
     "output_type": "stream",
     "text": [
      "Second smallest number: 12\n"
     ]
    }
   ],
   "source": [
    "def find_second_smallest(numbers):\n",
    "    #Write Your Code\n",
    "\n",
    "sample_list = [34, 1, 56, 23, 12]\n",
    "print(\"Second smallest number:\", find_second_smallest(sample_list))"
   ]
  },
  {
   "cell_type": "markdown",
   "id": "6c96a606-e515-465f-939a-bad004cf97c7",
   "metadata": {},
   "source": [
    "## Question 10: Write a program to replace all vowels in a string with the character '*'.\n",
    "#### Objective: Teach string iteration and replacement."
   ]
  },
  {
   "cell_type": "code",
   "execution_count": 29,
   "id": "dee46c09-6d43-4b4f-b572-e79e7e11b126",
   "metadata": {},
   "outputs": [
    {
     "name": "stdout",
     "output_type": "stream",
     "text": [
      "Text after replacing vowels: H*ll* W*rld\n"
     ]
    }
   ],
   "source": [
    "def replace_vowels(text):\n",
    "    #Write Your Code\n",
    "\n",
    "sentence = \"Hello World\"\n",
    "print(\"Text after replacing vowels:\", replace_vowels(sentence))"
   ]
  },
  {
   "cell_type": "code",
   "execution_count": null,
   "id": "5406c10b-edcc-4fc8-9f75-fd161080a82d",
   "metadata": {},
   "outputs": [],
   "source": []
  },
  {
   "cell_type": "markdown",
   "id": "fea9e55b-ec69-4d66-af9f-3ab603e0edea",
   "metadata": {},
   "source": [
    "## Question 11: Find the length of the longest word in a list.\n",
    "#### Objective: Teach list iteration and string length calculation"
   ]
  },
  {
   "cell_type": "code",
   "execution_count": null,
   "id": "ad9ff0a6-eb17-4b0b-8138-fc73d7811e0d",
   "metadata": {},
   "outputs": [],
   "source": []
  },
  {
   "cell_type": "markdown",
   "id": "d0048f4b-19cf-457e-9fda-9244b04051cd",
   "metadata": {},
   "source": [
    "## Question 17: Create a dictionary to count the occurrences of each character in a string.\n",
    "#### Objective: Teach dictionary usage and string iteration."
   ]
  },
  {
   "cell_type": "code",
   "execution_count": null,
   "id": "87a54204-3365-4af7-bd82-f593db89e1d8",
   "metadata": {},
   "outputs": [],
   "source": []
  }
 ],
 "metadata": {
  "kernelspec": {
   "display_name": "Python 3 (ipykernel)",
   "language": "python",
   "name": "python3"
  },
  "language_info": {
   "codemirror_mode": {
    "name": "ipython",
    "version": 3
   },
   "file_extension": ".py",
   "mimetype": "text/x-python",
   "name": "python",
   "nbconvert_exporter": "python",
   "pygments_lexer": "ipython3",
   "version": "3.12.4"
  }
 },
 "nbformat": 4,
 "nbformat_minor": 5
}
