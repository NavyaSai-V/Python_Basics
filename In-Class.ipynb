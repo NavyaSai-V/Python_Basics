{
 "cells": [
  {
   "cell_type": "markdown",
   "id": "20b4c3ad-b679-4a75-8a08-ed8576f77f58",
   "metadata": {},
   "source": [
    "## *Question 1: Create a list of numbers from 1 to 10 and calculate the sum.*\n",
    "\n",
    "#### Objective:  list creation, basic iteration, and the use of built-in functions like sum()."
   ]
  },
  {
   "cell_type": "code",
   "execution_count": 64,
   "id": "c3064b61-64c3-4e89-9a66-e7b3e9f7b111",
   "metadata": {},
   "outputs": [
    {
     "name": "stdin",
     "output_type": "stream",
     "text": [
      "Enter the ending of list:  10\n"
     ]
    },
    {
     "name": "stdout",
     "output_type": "stream",
     "text": [
      "the sum of the list ending at 10 is 55\n"
     ]
    }
   ],
   "source": [
    "num =int( input(\"Enter the ending of list: \"))\n",
    "list1 = list(range(1,num +1))\n",
    "result = sum(list1)\n",
    "print(f\"the sum of the list ending at {num} is {result}\")"
   ]
  },
  {
   "cell_type": "code",
   "execution_count": 60,
   "id": "773ad219-fafa-4bd6-988d-8bc5e9f32850",
   "metadata": {},
   "outputs": [
    {
     "data": {
      "text/plain": [
       "[1, 2, 3, 4, 5, 6, 7, 8, 9, 10, 11, 12, 13, 14, 15]"
      ]
     },
     "execution_count": 60,
     "metadata": {},
     "output_type": "execute_result"
    }
   ],
   "source": [
    "list1"
   ]
  },
  {
   "cell_type": "markdown",
   "id": "68fd12dc-f5b2-4658-b7fe-43179d249160",
   "metadata": {},
   "source": [
    "## Question 2: Create a function that returns the square of a number.\n",
    "#### Objective: Introduce functions, arguments, and return values."
   ]
  },
  {
   "cell_type": "code",
   "execution_count": 68,
   "id": "28d8e842-1e73-443e-aaaa-7f82d87e0cee",
   "metadata": {},
   "outputs": [
    {
     "name": "stdin",
     "output_type": "stream",
     "text": [
      "Enter the number for finding square:  5\n"
     ]
    },
    {
     "name": "stdout",
     "output_type": "stream",
     "text": [
      "The square of 5 is 25\n"
     ]
    }
   ],
   "source": [
    "num = int(input(\"Enter the number for finding square: \"))\n",
    "print(f\"The square of {num} is {square_num(num)}\")\n",
    "\n",
    "def square_num(num):\n",
    "    return num**2"
   ]
  },
  {
   "cell_type": "markdown",
   "id": "f478b00b-990b-4b15-ba5a-11475af4ab4f",
   "metadata": {},
   "source": [
    "## Question 3: Create a dictionary with three key-value pairs representing a data science toolkit (e.g., 'Language': 'Python').\n",
    "#### Objective: how to create and access dictionaries."
   ]
  },
  {
   "cell_type": "code",
   "execution_count": 78,
   "id": "75221b85-2211-4284-b610-120ccb340c3c",
   "metadata": {},
   "outputs": [],
   "source": [
    "dict1 = {\"key\": \"value\"}\n",
    "dict1[\"key\"] = \"value2\""
   ]
  },
  {
   "cell_type": "code",
   "execution_count": 80,
   "id": "3d78b2e7-029b-472c-96f6-f64e6c452614",
   "metadata": {},
   "outputs": [
    {
     "data": {
      "text/plain": [
       "{'key': 'value2'}"
      ]
     },
     "execution_count": 80,
     "metadata": {},
     "output_type": "execute_result"
    }
   ],
   "source": [
    "dict1"
   ]
  },
  {
   "cell_type": "code",
   "execution_count": 82,
   "id": "eee4a420-6139-4772-858c-76e7c6ea62b5",
   "metadata": {},
   "outputs": [
    {
     "name": "stdout",
     "output_type": "stream",
     "text": [
      "Dictionary {'Language': 'Python', 'Library': 'Pandas', 'Visualization': 'Seaborn'}\n"
     ]
    }
   ],
   "source": [
    "DS_dict = {\"Language\": 'Python', \"Library\": \"Pandas\", \"Visualization\": \"Seaborn\"}\n",
    "print(f\"Dictionary {DS_dict}\")"
   ]
  },
  {
   "cell_type": "markdown",
   "id": "2fe1ed44-2328-44d6-ab16-76c4d49fb7d2",
   "metadata": {},
   "source": [
    "## Question 4: Check if a number is positive, negative, or zero.\n",
    "#### Objective: Introduce conditional statements (if, elif, else)."
   ]
  },
  {
   "cell_type": "code",
   "execution_count": 86,
   "id": "8e28a6a5-db16-46ea-a763-8e550a817a74",
   "metadata": {},
   "outputs": [
    {
     "name": "stdin",
     "output_type": "stream",
     "text": [
      "Enter the  number  0\n"
     ]
    },
    {
     "name": "stdout",
     "output_type": "stream",
     "text": [
      "The number is 0\n"
     ]
    }
   ],
   "source": [
    "num = int(input(\"Enter the  number \"))\n",
    "if num > 0:\n",
    "    print(f'The given number is positive')\n",
    "elif num<0:\n",
    "    print(f'The given number is negative')\n",
    "else:\n",
    "    print(\"The number is 0\")"
   ]
  },
  {
   "cell_type": "markdown",
   "id": "012886a5-0767-4220-8802-3c307ca20d55",
   "metadata": {},
   "source": [
    "## Question 5: Create a list of even numbers from 1 to 20 using a loop.\n",
    "#### Objective: Teach how to use loops (for) and conditional logic"
   ]
  },
  {
   "cell_type": "code",
   "execution_count": 92,
   "id": "5f0ab5b1-8d81-4210-b5ff-e5d458ee8f62",
   "metadata": {},
   "outputs": [
    {
     "data": {
      "text/plain": [
       "[2, 4, 6, 8, 10, 12, 14, 16, 18, 20]"
      ]
     },
     "execution_count": 92,
     "metadata": {},
     "output_type": "execute_result"
    }
   ],
   "source": [
    "even_list = list()\n",
    "for num in range(1,21):\n",
    "    if num % 2 == 0:\n",
    "        even_list.append(num)\n",
    "even_list"
   ]
  },
  {
   "cell_type": "code",
   "execution_count": 90,
   "id": "c794d362-eb31-411f-bc4f-17b16642fb9a",
   "metadata": {},
   "outputs": [
    {
     "data": {
      "text/plain": [
       "[2, 4, 6, 8, 10, 12, 14, 16, 18, 20]"
      ]
     },
     "execution_count": 90,
     "metadata": {},
     "output_type": "execute_result"
    }
   ],
   "source": [
    "list1 = list(range(2,21, 2))\n",
    "list1"
   ]
  },
  {
   "cell_type": "markdown",
   "id": "2bf5ce83-442a-4059-b6f5-18487142c83e",
   "metadata": {},
   "source": [
    "## Question 6: Calculate the factorial of a number using a while loop.\n",
    "#### Objective: Introduce while loops and basic loop control"
   ]
  },
  {
   "cell_type": "code",
   "execution_count": 98,
   "id": "1da277ec-ef8b-4577-bbc7-12b314dd8da3",
   "metadata": {},
   "outputs": [
    {
     "name": "stdin",
     "output_type": "stream",
     "text": [
      "Enter the  number  100\n"
     ]
    },
    {
     "data": {
      "text/plain": [
       "93326215443944152681699238856266700490715968264381621468592963895217599993229915608941463976156518286253697920827223758251185210916864000000000000000000000000"
      ]
     },
     "execution_count": 98,
     "metadata": {},
     "output_type": "execute_result"
    }
   ],
   "source": [
    "num = int(input(\"Enter the  number \"))\n",
    "fact = 1\n",
    "i = 1\n",
    "while i <= num:\n",
    "    fact *= i\n",
    "    i += 1\n",
    "fact"
   ]
  },
  {
   "cell_type": "markdown",
   "id": "b4676f7d-57a2-41e1-8cd8-ec984e6f23e6",
   "metadata": {},
   "source": [
    "## Question 7: Reverse a string using a loop.\n",
    "#### Objective: Teach string manipulation and iteration through loops."
   ]
  },
  {
   "cell_type": "code",
   "execution_count": 102,
   "id": "57649423-bee9-4ed1-87ab-7ec6ac10f6b6",
   "metadata": {},
   "outputs": [
    {
     "name": "stdin",
     "output_type": "stream",
     "text": [
      "Enter any string Navya\n"
     ]
    },
    {
     "data": {
      "text/plain": [
       "'ayvaN'"
      ]
     },
     "execution_count": 102,
     "metadata": {},
     "output_type": "execute_result"
    }
   ],
   "source": [
    "String1 = input(\"Enter any string\")\n",
    "reverse = \"\"\n",
    "for word in String1:\n",
    "    reverse = word + reverse\n",
    "reverse"
   ]
  },
  {
   "cell_type": "markdown",
   "id": "85136148-7ccd-44c6-ac85-9fc90da5e411",
   "metadata": {},
   "source": [
    "## Question 8: Count the number of vowels in a string.\n",
    "#### Objective: Practice loops, conditionals, and working with strings."
   ]
  },
  {
   "cell_type": "code",
   "execution_count": 104,
   "id": "4a0c2130-0a55-45dd-b0d0-cec4cb51c3f6",
   "metadata": {},
   "outputs": [
    {
     "name": "stdin",
     "output_type": "stream",
     "text": [
      "Enter any string AAAbadga\n"
     ]
    },
    {
     "data": {
      "text/plain": [
       "5"
      ]
     },
     "execution_count": 104,
     "metadata": {},
     "output_type": "execute_result"
    }
   ],
   "source": [
    "Vowels = \"aeiouAEIOU\"\n",
    "String1 = input(\"Enter any string\")\n",
    "count = 0\n",
    "for letter in String1:\n",
    "    if letter in Vowels:\n",
    "        count += 1\n",
    "count"
   ]
  },
  {
   "cell_type": "markdown",
   "id": "1c4d1638-1b14-4cf0-9a19-56ab751d3833",
   "metadata": {},
   "source": [
    "## Question 9: Create a function that checks if a list is empty.\n",
    "#### Objective: Introduce functions, list operations, and conditionals."
   ]
  },
  {
   "cell_type": "code",
   "execution_count": 111,
   "id": "a6ef2058-04e9-45aa-9d9f-ad9357fca8c6",
   "metadata": {},
   "outputs": [
    {
     "name": "stdout",
     "output_type": "stream",
     "text": [
      "My list is empty True\n"
     ]
    }
   ],
   "source": [
    "def Check_list(my_list):\n",
    "    if not my_list:\n",
    "        return True\n",
    "    else:\n",
    "        return False\n",
    "my_list = []\n",
    "print(f\"My list is empty {Check_list(my_list)}\")\n"
   ]
  },
  {
   "cell_type": "markdown",
   "id": "d86ba7dd-9569-42ae-be09-15fc995b7eff",
   "metadata": {},
   "source": [
    "## Question 10: Find the maximum number in a list without using built-in functions.\n",
    "#### Objective: Teach how to iterate through a list and compare values."
   ]
  },
  {
   "cell_type": "code",
   "execution_count": 116,
   "id": "4362dbc2-c8e5-42d9-b29a-d9eeccfc916b",
   "metadata": {},
   "outputs": [
    {
     "data": {
      "text/plain": [
       "19"
      ]
     },
     "execution_count": 116,
     "metadata": {},
     "output_type": "execute_result"
    }
   ],
   "source": [
    "list = [5, 6,9,1,15,19,1,2]\n",
    "max_num = list[0]\n",
    "for num in list:\n",
    "    if num > max_num:\n",
    "        max_num = num\n",
    "max_num"
   ]
  },
  {
   "cell_type": "markdown",
   "id": "078da7f6-1294-40cd-a17f-ebc064269dca",
   "metadata": {},
   "source": [
    "## Question 11: Use a loop to print a pattern of stars:\n",
    "#### Objective: Practice nested loops and pattern creation."
   ]
  },
  {
   "cell_type": "code",
   "execution_count": 124,
   "id": "750184c1-52d8-41fa-8432-1728a290cda3",
   "metadata": {},
   "outputs": [
    {
     "name": "stdout",
     "output_type": "stream",
     "text": [
      "*\n",
      "**\n",
      "***\n",
      "****\n",
      "*****\n"
     ]
    }
   ],
   "source": [
    "n = 5\n",
    "for i in  range(1, n+1):\n",
    "    for j in range(i):\n",
    "        print(\"*\", end=\"\")\n",
    "    print(\"\")"
   ]
  },
  {
   "cell_type": "code",
   "execution_count": 126,
   "id": "674d9305-55b6-4ff6-b686-11e214846059",
   "metadata": {},
   "outputs": [
    {
     "name": "stdout",
     "output_type": "stream",
     "text": [
      "*****\n",
      "****\n",
      "***\n",
      "**\n",
      "*\n"
     ]
    }
   ],
   "source": [
    "n = 5\n",
    "for i in  range(n, 0, -1):\n",
    "    for j in range(i):\n",
    "        print(\"*\", end=\"\")\n",
    "    print(\"\")"
   ]
  },
  {
   "cell_type": "markdown",
   "id": "201ea3fb-e333-4017-89c2-1c65f077edd9",
   "metadata": {},
   "source": [
    "## Question 12: Create a list of the first 10 square numbers using a loop.\n",
    "#### Objective: Practice loop iteration and list manipulation."
   ]
  },
  {
   "cell_type": "code",
   "execution_count": 129,
   "id": "a92092d5-6dd0-4dff-a135-9189cacfd0cc",
   "metadata": {},
   "outputs": [
    {
     "data": {
      "text/plain": [
       "[1, 4, 9, 16, 25, 36, 49, 64, 81, 100]"
      ]
     },
     "execution_count": 129,
     "metadata": {},
     "output_type": "execute_result"
    }
   ],
   "source": [
    "List = []\n",
    "for i in range(1, 11):\n",
    "    List.append(i**2)\n",
    "\n",
    "List"
   ]
  },
  {
   "cell_type": "markdown",
   "id": "91d5a113-1991-4696-81a7-6da3bd127ad9",
   "metadata": {},
   "source": [
    "## Question 13: Find the sum of all odd numbers between 1 and 50.\n",
    "#### Objective: Use loops and conditionals to filter and sum values"
   ]
  },
  {
   "cell_type": "code",
   "execution_count": 131,
   "id": "e2934c1f-b151-471f-a749-ec2e7947c134",
   "metadata": {},
   "outputs": [
    {
     "data": {
      "text/plain": [
       "25"
      ]
     },
     "execution_count": 131,
     "metadata": {},
     "output_type": "execute_result"
    }
   ],
   "source": [
    "sum = 0\n",
    "for i in range(1,50):\n",
    "    if i % 2 != 0:\n",
    "        sum += 1\n",
    "sum"
   ]
  },
  {
   "cell_type": "markdown",
   "id": "c169c505-e9c4-4ced-9af6-1e91a8108e79",
   "metadata": {},
   "source": [
    "## Question 14: Write a function to check if a string is a palindrome.\n",
    "#### Objective: Introduce string manipulation and comparison"
   ]
  },
  {
   "cell_type": "code",
   "execution_count": 143,
   "id": "cf7f2801-a234-4cd6-8d55-28eb0e729909",
   "metadata": {},
   "outputs": [
    {
     "name": "stdin",
     "output_type": "stream",
     "text": [
      "Enter the string:  Madam\n"
     ]
    },
    {
     "name": "stdout",
     "output_type": "stream",
     "text": [
      "Madam is palindrome\n"
     ]
    }
   ],
   "source": [
    "String1 = input(\"Enter the string: \")\n",
    "reverse = String1[::-1]\n",
    "if String1.lower() == reverse.lower():\n",
    "    print(f'{String1} is palindrome')\n",
    "else:\n",
    "     print(f'{String1} is not palindrome')"
   ]
  },
  {
   "cell_type": "markdown",
   "id": "04cfb5db-2d3d-4c00-bfc6-73cee1178734",
   "metadata": {},
   "source": [
    "## Question 15: Find the length of the longest word in a list.\n",
    "#### Objective: Teach list iteration and string length calculation"
   ]
  },
  {
   "cell_type": "code",
   "execution_count": 19,
   "id": "7f5856ff-cca6-4295-aa9b-00ebe58875c8",
   "metadata": {},
   "outputs": [],
   "source": [
    "words = [\"Data\", \"Science\", \"Python\", \"MachineLearning\"]\n"
   ]
  },
  {
   "cell_type": "markdown",
   "id": "22f9a5a1-f052-40cb-86e1-cc513d9e333a",
   "metadata": {},
   "source": [
    "## Question 16: Use a loop to print the Fibonacci sequence up to the 10th term.\n",
    "#### Objective: Practice loop iteration and sequence generation."
   ]
  },
  {
   "cell_type": "code",
   "execution_count": 146,
   "id": "897a74a8-c753-4dca-9f18-015400d711e6",
   "metadata": {},
   "outputs": [
    {
     "name": "stdout",
     "output_type": "stream",
     "text": [
      "Fibonacci series for 10 numbers is :\n",
      "0,1,1,2,3,5,8,13,21,34,"
     ]
    }
   ],
   "source": [
    "n = 10\n",
    "n1 = 0\n",
    "n2 = 1\n",
    "print(\"Fibonacci series for 10 numbers is :\")\n",
    "for i in range(10):\n",
    "    print(n1, end =\",\")\n",
    "    num = n1 + n2\n",
    "    n1 = n2\n",
    "    n2 = num\n",
    "    \n"
   ]
  },
  {
   "cell_type": "markdown",
   "id": "a6e92567-2a45-4a84-a426-ab841cfd9820",
   "metadata": {},
   "source": [
    "## Question 17: Create a dictionary to count the occurrences of each character in a string.\n",
    "#### Objective: Teach dictionary usage and string iteration."
   ]
  },
  {
   "cell_type": "code",
   "execution_count": 22,
   "id": "65e7ee4f-488f-4aa9-a65a-1f028c03fbf1",
   "metadata": {},
   "outputs": [],
   "source": [
    "text = \"Data Science with Navi\""
   ]
  },
  {
   "cell_type": "markdown",
   "id": "0c4f889f-5ddc-457e-a050-d048772d7943",
   "metadata": {},
   "source": [
    "## Question 18: Write a program that prints the numbers from 1 to 30, but for multiples of 3, print \"Fizz\" instead of the number, and for multiples of 5, print \"Buzz\". For numbers that are multiples of both 3 and 5, print \"FizzBuzz\".\n",
    "#### Objective: Practice conditional logic and loop iteration."
   ]
  },
  {
   "cell_type": "code",
   "execution_count": 160,
   "id": "4563a340-db82-4bac-9308-52ee94ac861e",
   "metadata": {},
   "outputs": [
    {
     "name": "stdout",
     "output_type": "stream",
     "text": [
      "1\n",
      "2\n",
      "Fizz\n",
      "4\n",
      "Buzz\n",
      "Fizz\n",
      "7\n",
      "8\n",
      "Fizz\n",
      "Buzz\n",
      "11\n",
      "Fizz\n",
      "13\n",
      "14\n",
      "FizzBuzz\n",
      "16\n",
      "17\n",
      "Fizz\n",
      "19\n",
      "Buzz\n",
      "Fizz\n",
      "22\n",
      "23\n",
      "Fizz\n",
      "Buzz\n",
      "26\n",
      "Fizz\n",
      "28\n",
      "29\n",
      "FizzBuzz\n"
     ]
    }
   ],
   "source": [
    "for i in range(1,31):\n",
    "    if i%3 == 0 and i %5 == 0:\n",
    "        print(\"FizzBuzz\")\n",
    "    elif i%3 == 0:\n",
    "        print(\"Fizz\")\n",
    "    elif i%5 == 0:\n",
    "        print(\"Buzz\")\n",
    "    else:\n",
    "        print(i)"
   ]
  },
  {
   "cell_type": "markdown",
   "id": "ce104a1b-3416-4bc6-9fe5-bb49a8be6860",
   "metadata": {},
   "source": [
    "## Question 19: Create a nested loop to print a multiplication table for numbers 1 through 5.\n",
    "#### Objective: Teach nested loops and basic arithmetic operations."
   ]
  },
  {
   "cell_type": "code",
   "execution_count": 172,
   "id": "41bb12ba-575d-48d4-bfe0-73a31ec5d730",
   "metadata": {},
   "outputs": [
    {
     "name": "stdout",
     "output_type": "stream",
     "text": [
      " 1 X 1 = 1   1 X 2 = 2   1 X 3 = 3   1 X 4 = 4   1 X 5 = 5   \n",
      " 2 X 1 = 2   2 X 2 = 4   2 X 3 = 6   2 X 4 = 8   2 X 5 = 10   \n",
      " 3 X 1 = 3   3 X 2 = 6   3 X 3 = 9   3 X 4 = 12   3 X 5 = 15   \n",
      " 4 X 1 = 4   4 X 2 = 8   4 X 3 = 12   4 X 4 = 16   4 X 5 = 20   \n",
      " 5 X 1 = 5   5 X 2 = 10   5 X 3 = 15   5 X 4 = 20   5 X 5 = 25   \n"
     ]
    }
   ],
   "source": [
    "for i in range(1,6):\n",
    "    for j in range(1,6):\n",
    "        print(f\" {i} X {j} = {i*j}\" , end = \"  \")\n",
    "    print(\" \")"
   ]
  },
  {
   "cell_type": "markdown",
   "id": "498b5903-9dca-4024-ba17-a637c8bcfba3",
   "metadata": {},
   "source": [
    "## Question 20: Write a program that finds the second largest number in a list.\n",
    "#### Objective: list sorting and indexing"
   ]
  },
  {
   "cell_type": "code",
   "execution_count": 180,
   "id": "ef9a5dae-5f56-4be4-846e-67ac39fa93a0",
   "metadata": {},
   "outputs": [
    {
     "data": {
      "text/plain": [
       "15"
      ]
     },
     "execution_count": 180,
     "metadata": {},
     "output_type": "execute_result"
    }
   ],
   "source": [
    "list1 = [5, 6,9,1,15,19,1,2]\n",
    "list1.sort()\n",
    "list1[-2]"
   ]
  },
  {
   "cell_type": "code",
   "execution_count": 178,
   "id": "acc65962-3604-4482-9f65-3a90f3380949",
   "metadata": {},
   "outputs": [
    {
     "data": {
      "text/plain": [
       "[1, 1, 2, 5, 6, 9, 15, 19]"
      ]
     },
     "execution_count": 178,
     "metadata": {},
     "output_type": "execute_result"
    }
   ],
   "source": [
    "list1"
   ]
  },
  {
   "cell_type": "code",
   "execution_count": null,
   "id": "b4466ce3-d6b8-4883-9ea5-641ace1f6169",
   "metadata": {},
   "outputs": [],
   "source": []
  }
 ],
 "metadata": {
  "kernelspec": {
   "display_name": "Python 3 (ipykernel)",
   "language": "python",
   "name": "python3"
  },
  "language_info": {
   "codemirror_mode": {
    "name": "ipython",
    "version": 3
   },
   "file_extension": ".py",
   "mimetype": "text/x-python",
   "name": "python",
   "nbconvert_exporter": "python",
   "pygments_lexer": "ipython3",
   "version": "3.12.4"
  }
 },
 "nbformat": 4,
 "nbformat_minor": 5
}
