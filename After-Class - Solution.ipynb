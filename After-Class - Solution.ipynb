{
 "cells": [
  {
   "cell_type": "markdown",
   "id": "3964f9c8-1a5f-4dbc-88d2-67bedeb5ec29",
   "metadata": {},
   "source": [
    "## Question 1: Write a function to find the largest number in a list without using the max() function.\n",
    "#### Objective: Practice list iteration and comparison logic."
   ]
  },
  {
   "cell_type": "code",
   "execution_count": 2,
   "id": "ddb28e28-2102-4724-a10e-72d4e6feb492",
   "metadata": {},
   "outputs": [
    {
     "name": "stdout",
     "output_type": "stream",
     "text": [
      "Largest number: 89\n"
     ]
    }
   ],
   "source": [
    "def find_largest(numbers):\n",
    "    largest = numbers[0]\n",
    "    for number in numbers:\n",
    "        if number > largest:\n",
    "            largest = number\n",
    "    return largest\n",
    "\n",
    "sample_list = [3, 56, 23, 89, 12]\n",
    "print(\"Largest number:\", find_largest(sample_list))"
   ]
  },
  {
   "cell_type": "markdown",
   "id": "05530320-3c15-4d02-8e89-ccaafc89b5f7",
   "metadata": {},
   "source": [
    "## Question 2: Write a function to count the number of words in a string.\n",
    "#### Objective: Introduce string splitting and list manipulation."
   ]
  },
  {
   "cell_type": "code",
   "execution_count": 5,
   "id": "01adf4da-946a-49de-97ec-bc5ee7c58e7f",
   "metadata": {},
   "outputs": [
    {
     "name": "stdout",
     "output_type": "stream",
     "text": [
      "Number of words: 6\n"
     ]
    }
   ],
   "source": [
    "def count_words(sentence):\n",
    "    words = sentence.split()\n",
    "    return len(words)\n",
    "\n",
    "sentence = \"Data science is an exciting field\"\n",
    "print(\"Number of words:\", count_words(sentence))"
   ]
  },
  {
   "cell_type": "markdown",
   "id": "f4c5483b-c3ae-4d71-b3a5-8b6b5fd47614",
   "metadata": {},
   "source": [
    "## Question 3: Write a function that calculates the sum of squares of even numbers in a list."
   ]
  },
  {
   "cell_type": "code",
   "execution_count": null,
   "id": "4369e92f-95bb-4622-a67a-f3dcc8976db3",
   "metadata": {},
   "outputs": [],
   "source": [
    "num = int(input(\"Enter an number to which range you want sum of squares\"))\n",
    "\n",
    "def sumofsquares(num):\n",
    "    sum = 0\n",
    "    for i in range(num+1):\n",
    "        if (i%2 == 0):\n",
    "            sum += i**2\n",
    "    return sum\n",
    "\n",
    "print(sumofsquares(num))"
   ]
  },
  {
   "cell_type": "markdown",
   "id": "2eba6bc4-b7bf-482b-8a4a-11ea089e6f5a",
   "metadata": {},
   "source": [
    "## Question 4: Write a function to check if a given year is a leap year.\n",
    "#### Objective: Practice using conditional statements and the modulo operator."
   ]
  },
  {
   "cell_type": "code",
   "execution_count": 11,
   "id": "a6eae0e1-c5dc-45db-b0f2-2f1d35d897c5",
   "metadata": {},
   "outputs": [
    {
     "name": "stdout",
     "output_type": "stream",
     "text": [
      "Is 2024 a leap year? True\n",
      "Is 2023 a leap year? False\n"
     ]
    }
   ],
   "source": [
    "def is_leap_year(year):\n",
    "    if (year % 4 == 0 and year % 100 != 0) or (year % 400 == 0):\n",
    "        return True\n",
    "    else:\n",
    "        return False\n",
    "\n",
    "print(\"Is 2024 a leap year?\", is_leap_year(2024))\n",
    "print(\"Is 2023 a leap year?\", is_leap_year(2023))"
   ]
  },
  {
   "cell_type": "markdown",
   "id": "92c2661c-67a3-4b94-8d1f-c923001236c2",
   "metadata": {},
   "source": [
    "## Question 5: Write a program that reverses the words in a sentence.\n",
    "#### Objective: Practice string splitting, list manipulation, and joining."
   ]
  },
  {
   "cell_type": "code",
   "execution_count": 14,
   "id": "f22fd1e5-9b74-4e18-9af5-d69839c83d15",
   "metadata": {},
   "outputs": [
    {
     "name": "stdout",
     "output_type": "stream",
     "text": [
      "Reversed sentence: Python is this world Hello\n"
     ]
    }
   ],
   "source": [
    "def reverse_words(sentence):\n",
    "    words = sentence.split()\n",
    "    reversed_sentence = \" \".join(reversed(words))\n",
    "    return reversed_sentence\n",
    "\n",
    "sentence = \"Hello world this is Python\"\n",
    "print(\"Reversed sentence:\", reverse_words(sentence))"
   ]
  },
  {
   "cell_type": "markdown",
   "id": "c67cfe78-eab7-4fcf-a0a0-39a74af2137c",
   "metadata": {},
   "source": [
    "## Question 6: Write a program to find all the prime numbers between 1 and 50.\n",
    "#### Objective: Introduce the concept of prime numbers and practice loops."
   ]
  },
  {
   "cell_type": "code",
   "execution_count": 17,
   "id": "2e659b5c-aab8-4fdc-bb86-3f36707c4d3f",
   "metadata": {},
   "outputs": [
    {
     "name": "stdout",
     "output_type": "stream",
     "text": [
      "Prime numbers between 1 and 50: [2, 3, 5, 7, 11, 13, 17, 19, 23, 29, 31, 37, 41, 43, 47]\n"
     ]
    }
   ],
   "source": [
    "def is_prime(num):\n",
    "    if num <= 1:\n",
    "        return False\n",
    "    for i in range(2, num):\n",
    "        if num % i == 0:\n",
    "            return False\n",
    "    return True\n",
    "\n",
    "primes = []\n",
    "for i in range(1, 51):\n",
    "    if is_prime(i):\n",
    "        primes.append(i)\n",
    "\n",
    "print(\"Prime numbers between 1 and 50:\", primes)"
   ]
  },
  {
   "cell_type": "markdown",
   "id": "4dd8901a-4de5-421f-8853-95864ccd38ab",
   "metadata": {},
   "source": [
    "## Question 7: Write a program to count the occurrences of each word in a given sentence.\n",
    "#### Objective: Teach how to use dictionaries for counting and string manipulation."
   ]
  },
  {
   "cell_type": "code",
   "execution_count": 20,
   "id": "d9adfbb6-c317-459e-a98f-0685eacb9b78",
   "metadata": {},
   "outputs": [
    {
     "name": "stdout",
     "output_type": "stream",
     "text": [
      "Word occurrences: {'Python': 2, 'is': 2, 'great': 1, 'and': 1, 'popular': 1}\n"
     ]
    }
   ],
   "source": [
    "def count_word_occurrences(sentence):\n",
    "    words = sentence.split()\n",
    "    word_count = {}\n",
    "\n",
    "    for word in words:\n",
    "        if word in word_count:\n",
    "            word_count[word] += 1\n",
    "        else:\n",
    "            word_count[word] = 1\n",
    "\n",
    "    return word_count\n",
    "\n",
    "sentence = \"Python is great and Python is popular\"\n",
    "print(\"Word occurrences:\", count_word_occurrences(sentence))"
   ]
  },
  {
   "cell_type": "markdown",
   "id": "3aeb656a-e4af-4b40-b64e-1c45ca705656",
   "metadata": {},
   "source": [
    "## Question 8: Write a program to find the common elements between two lists.\n",
    "#### Objective: Practice set operations or list iteration."
   ]
  },
  {
   "cell_type": "code",
   "execution_count": 23,
   "id": "b1d77e21-04f9-42f5-b280-a8eed0f8d1c7",
   "metadata": {},
   "outputs": [
    {
     "name": "stdout",
     "output_type": "stream",
     "text": [
      "Common elements: [4, 5]\n"
     ]
    }
   ],
   "source": [
    "def common_elements(list1, list2):\n",
    "    r#write your Code\n",
    "\n",
    "list1 = [1, 2, 3, 4, 5]\n",
    "list2 = [4, 5, 6, 7, 8]\n",
    "print(\"Common elements:\", common_elements(list1, list2))"
   ]
  },
  {
   "cell_type": "markdown",
   "id": "14b49c9c-c09a-474a-ae48-e6609c345cfd",
   "metadata": {},
   "source": [
    "## Question 9: Write a function to find the second smallest number in a list.\n",
    "#### Objective: Practice list sorting and indexing."
   ]
  },
  {
   "cell_type": "code",
   "execution_count": 26,
   "id": "a909d36d-0e50-449a-bfbb-a7ca1d351c9b",
   "metadata": {},
   "outputs": [
    {
     "name": "stdout",
     "output_type": "stream",
     "text": [
      "Second smallest number: 12\n"
     ]
    }
   ],
   "source": [
    "def find_second_smallest(numbers):\n",
    "    return [element for element in list1 if element in list2]\n",
    "\n",
    "sample_list = [34, 1, 56, 23, 12]\n",
    "print(\"Second smallest number:\", find_second_smallest(sample_list))"
   ]
  },
  {
   "cell_type": "markdown",
   "id": "6c96a606-e515-465f-939a-bad004cf97c7",
   "metadata": {},
   "source": [
    "## Question 10: Write a program to replace all vowels in a string with the character '*'.\n",
    "#### Objective: Teach string iteration and replacement."
   ]
  },
  {
   "cell_type": "code",
   "execution_count": 29,
   "id": "dee46c09-6d43-4b4f-b572-e79e7e11b126",
   "metadata": {},
   "outputs": [
    {
     "name": "stdout",
     "output_type": "stream",
     "text": [
      "Text after replacing vowels: H*ll* W*rld\n"
     ]
    }
   ],
   "source": [
    "def replace_vowels(text):\n",
    "    vowels = \"aeiouAEIOU\"\n",
    "    for vowel in vowels:\n",
    "        text = text.replace(vowel, '*')\n",
    "    return text\n",
    "\n",
    "sentence = \"Hello World\"\n",
    "print(\"Text after replacing vowels:\", replace_vowels(sentence))"
   ]
  },
  {
   "cell_type": "code",
   "execution_count": null,
   "id": "5406c10b-edcc-4fc8-9f75-fd161080a82d",
   "metadata": {},
   "outputs": [],
   "source": []
  },
  {
   "cell_type": "code",
   "execution_count": null,
   "id": "456a7fd3-5c9f-4b2a-9539-ce39c6c0a708",
   "metadata": {},
   "outputs": [],
   "source": [
    "words = [\"Data\", \"Science\", \"Python\", \"MachineLearning\"]\n",
    "max_length = 0\n",
    "longest_word = \"\"\n",
    "\n",
    "for word in words:\n",
    "    if len(word) > max_length:\n",
    "        max_length = len(word)\n",
    "        longest_word = word\n",
    "\n",
    "print(\"Longest word:\", longest_word, \"with length\", max_length)"
   ]
  },
  {
   "cell_type": "code",
   "execution_count": null,
   "id": "8b39764b-c471-45ef-b057-98d1eafc60b6",
   "metadata": {},
   "outputs": [],
   "source": []
  },
  {
   "cell_type": "code",
   "execution_count": null,
   "id": "c4d265a6-50a1-44c3-8068-fd5e99e75f47",
   "metadata": {},
   "outputs": [],
   "source": [
    "text = \"hello world\"\n",
    "char_count = {}\n",
    "\n",
    "for char in text:\n",
    "    if char in char_count:\n",
    "        char_count[char] += 1\n",
    "    else:\n",
    "        char_count[char] = 1\n",
    "\n",
    "print(\"Character count:\", char_count)"
   ]
  }
 ],
 "metadata": {
  "kernelspec": {
   "display_name": "Python 3 (ipykernel)",
   "language": "python",
   "name": "python3"
  },
  "language_info": {
   "codemirror_mode": {
    "name": "ipython",
    "version": 3
   },
   "file_extension": ".py",
   "mimetype": "text/x-python",
   "name": "python",
   "nbconvert_exporter": "python",
   "pygments_lexer": "ipython3",
   "version": "3.12.4"
  }
 },
 "nbformat": 4,
 "nbformat_minor": 5
}
